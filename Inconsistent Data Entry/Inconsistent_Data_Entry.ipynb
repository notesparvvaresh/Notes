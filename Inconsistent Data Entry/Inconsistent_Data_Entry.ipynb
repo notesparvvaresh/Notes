{
  "nbformat": 4,
  "nbformat_minor": 0,
  "metadata": {
    "colab": {
      "provenance": [],
      "collapsed_sections": []
    },
    "kernelspec": {
      "name": "python3",
      "display_name": "Python 3"
    },
    "language_info": {
      "name": "python"
    }
  },
  "cells": [
    {
      "cell_type": "code",
      "execution_count": 2,
      "metadata": {
        "colab": {
          "base_uri": "https://localhost:8080/"
        },
        "id": "cYGrBEWQdoqT",
        "outputId": "238bbf61-ee7c-4c63-e8e8-27b43057a2e6"
      },
      "outputs": [
        {
          "output_type": "stream",
          "name": "stdout",
          "text": [
            "Looking in indexes: https://pypi.org/simple, https://us-python.pkg.dev/colab-wheels/public/simple/\n",
            "Collecting fuzzywuzzy\n",
            "  Downloading fuzzywuzzy-0.18.0-py2.py3-none-any.whl (18 kB)\n",
            "Installing collected packages: fuzzywuzzy\n",
            "Successfully installed fuzzywuzzy-0.18.0\n"
          ]
        }
      ],
      "source": [
        "!pip install fuzzywuzzy"
      ]
    },
    {
      "cell_type": "code",
      "source": [
        "import pandas as pd\n",
        "import numpy as np\n",
        "import fuzzywuzzy\n",
        "from fuzzywuzzy import process\n",
        "import chardet"
      ],
      "metadata": {
        "colab": {
          "base_uri": "https://localhost:8080/"
        },
        "id": "ETzutPrJeERO",
        "outputId": "ea67ceca-bb74-4e4f-d9d3-18df42c161c6"
      },
      "execution_count": 3,
      "outputs": [
        {
          "output_type": "stream",
          "name": "stderr",
          "text": [
            "/usr/local/lib/python3.7/dist-packages/fuzzywuzzy/fuzz.py:11: UserWarning: Using slow pure-python SequenceMatcher. Install python-Levenshtein to remove this warning\n",
            "  warnings.warn('Using slow pure-python SequenceMatcher. Install python-Levenshtein to remove this warning')\n"
          ]
        }
      ]
    },
    {
      "cell_type": "code",
      "source": [
        "path = \"/content/Pakistan Intellectual Capital - Computer Science - Ver 1.csv\"\n",
        "data = pd.read_csv(path, encoding='Windows-1252')\n",
        "data.head()"
      ],
      "metadata": {
        "colab": {
          "base_uri": "https://localhost:8080/",
          "height": 354
        },
        "id": "dhv2OUqOeN97",
        "outputId": "f4114354-63e0-4f7e-d6d6-4e7d837e96c7"
      },
      "execution_count": 7,
      "outputs": [
        {
          "output_type": "execute_result",
          "data": {
            "text/plain": [
              "   S#                Teacher Name University Currently Teaching  \\\n",
              "0   1             Dr. Ihsan Ullah     University of Balochistan   \n",
              "1   2              Dr. Atiq Ahmed     University of Balochistan   \n",
              "2   3             Dr. Abdul Basit     University of Balochistan   \n",
              "3   4  Mr. Muhammad Khalid Badini     University of Balochistan   \n",
              "4   5             Dr. Waheed Noor     University of Balochistan   \n",
              "\n",
              "              Department Province University Located          Designation  \\\n",
              "0  Computer Science & IT                 Balochistan  Assistant Professor   \n",
              "1  Computer Science & IT                 Balochistan  Associate Professor   \n",
              "2  Computer Science & IT                 Balochistan  Assistant Professor   \n",
              "3  Computer Science & IT                 Balochistan  Assistant Professor   \n",
              "4  Computer Science & IT                 Balochistan  Assistant Professor   \n",
              "\n",
              "  Terminal Degree                 Graduated from   Country  Year  \\\n",
              "0             PhD                            NaN    France   NaN   \n",
              "1             PhD                            NaN    France   NaN   \n",
              "2             PhD  Asian Institute of Technology  Thailand   NaN   \n",
              "3              MS                            NaN       NaN   NaN   \n",
              "4             PhD  Asian Institute of Technology  Thailand   NaN   \n",
              "\n",
              "           Area of Specialization/Research Interests Other Information  \n",
              "0            P2P Networks, Telecommunication Systems               NaN  \n",
              "1  Wireless Networks, Telecommunication Systems, ...               NaN  \n",
              "2                        Software Engineering & DBMS               NaN  \n",
              "3                            Operating System & DBMS    On study leave  \n",
              "4                                               DBMS               NaN  "
            ],
            "text/html": [
              "\n",
              "  <div id=\"df-ffe9f072-7a6f-4606-a912-b065329137af\">\n",
              "    <div class=\"colab-df-container\">\n",
              "      <div>\n",
              "<style scoped>\n",
              "    .dataframe tbody tr th:only-of-type {\n",
              "        vertical-align: middle;\n",
              "    }\n",
              "\n",
              "    .dataframe tbody tr th {\n",
              "        vertical-align: top;\n",
              "    }\n",
              "\n",
              "    .dataframe thead th {\n",
              "        text-align: right;\n",
              "    }\n",
              "</style>\n",
              "<table border=\"1\" class=\"dataframe\">\n",
              "  <thead>\n",
              "    <tr style=\"text-align: right;\">\n",
              "      <th></th>\n",
              "      <th>S#</th>\n",
              "      <th>Teacher Name</th>\n",
              "      <th>University Currently Teaching</th>\n",
              "      <th>Department</th>\n",
              "      <th>Province University Located</th>\n",
              "      <th>Designation</th>\n",
              "      <th>Terminal Degree</th>\n",
              "      <th>Graduated from</th>\n",
              "      <th>Country</th>\n",
              "      <th>Year</th>\n",
              "      <th>Area of Specialization/Research Interests</th>\n",
              "      <th>Other Information</th>\n",
              "    </tr>\n",
              "  </thead>\n",
              "  <tbody>\n",
              "    <tr>\n",
              "      <th>0</th>\n",
              "      <td>1</td>\n",
              "      <td>Dr. Ihsan Ullah</td>\n",
              "      <td>University of Balochistan</td>\n",
              "      <td>Computer Science &amp; IT</td>\n",
              "      <td>Balochistan</td>\n",
              "      <td>Assistant Professor</td>\n",
              "      <td>PhD</td>\n",
              "      <td>NaN</td>\n",
              "      <td>France</td>\n",
              "      <td>NaN</td>\n",
              "      <td>P2P Networks, Telecommunication Systems</td>\n",
              "      <td>NaN</td>\n",
              "    </tr>\n",
              "    <tr>\n",
              "      <th>1</th>\n",
              "      <td>2</td>\n",
              "      <td>Dr. Atiq Ahmed</td>\n",
              "      <td>University of Balochistan</td>\n",
              "      <td>Computer Science &amp; IT</td>\n",
              "      <td>Balochistan</td>\n",
              "      <td>Associate Professor</td>\n",
              "      <td>PhD</td>\n",
              "      <td>NaN</td>\n",
              "      <td>France</td>\n",
              "      <td>NaN</td>\n",
              "      <td>Wireless Networks, Telecommunication Systems, ...</td>\n",
              "      <td>NaN</td>\n",
              "    </tr>\n",
              "    <tr>\n",
              "      <th>2</th>\n",
              "      <td>3</td>\n",
              "      <td>Dr. Abdul Basit</td>\n",
              "      <td>University of Balochistan</td>\n",
              "      <td>Computer Science &amp; IT</td>\n",
              "      <td>Balochistan</td>\n",
              "      <td>Assistant Professor</td>\n",
              "      <td>PhD</td>\n",
              "      <td>Asian Institute of Technology</td>\n",
              "      <td>Thailand</td>\n",
              "      <td>NaN</td>\n",
              "      <td>Software Engineering &amp; DBMS</td>\n",
              "      <td>NaN</td>\n",
              "    </tr>\n",
              "    <tr>\n",
              "      <th>3</th>\n",
              "      <td>4</td>\n",
              "      <td>Mr. Muhammad Khalid Badini</td>\n",
              "      <td>University of Balochistan</td>\n",
              "      <td>Computer Science &amp; IT</td>\n",
              "      <td>Balochistan</td>\n",
              "      <td>Assistant Professor</td>\n",
              "      <td>MS</td>\n",
              "      <td>NaN</td>\n",
              "      <td>NaN</td>\n",
              "      <td>NaN</td>\n",
              "      <td>Operating System &amp; DBMS</td>\n",
              "      <td>On study leave</td>\n",
              "    </tr>\n",
              "    <tr>\n",
              "      <th>4</th>\n",
              "      <td>5</td>\n",
              "      <td>Dr. Waheed Noor</td>\n",
              "      <td>University of Balochistan</td>\n",
              "      <td>Computer Science &amp; IT</td>\n",
              "      <td>Balochistan</td>\n",
              "      <td>Assistant Professor</td>\n",
              "      <td>PhD</td>\n",
              "      <td>Asian Institute of Technology</td>\n",
              "      <td>Thailand</td>\n",
              "      <td>NaN</td>\n",
              "      <td>DBMS</td>\n",
              "      <td>NaN</td>\n",
              "    </tr>\n",
              "  </tbody>\n",
              "</table>\n",
              "</div>\n",
              "      <button class=\"colab-df-convert\" onclick=\"convertToInteractive('df-ffe9f072-7a6f-4606-a912-b065329137af')\"\n",
              "              title=\"Convert this dataframe to an interactive table.\"\n",
              "              style=\"display:none;\">\n",
              "        \n",
              "  <svg xmlns=\"http://www.w3.org/2000/svg\" height=\"24px\"viewBox=\"0 0 24 24\"\n",
              "       width=\"24px\">\n",
              "    <path d=\"M0 0h24v24H0V0z\" fill=\"none\"/>\n",
              "    <path d=\"M18.56 5.44l.94 2.06.94-2.06 2.06-.94-2.06-.94-.94-2.06-.94 2.06-2.06.94zm-11 1L8.5 8.5l.94-2.06 2.06-.94-2.06-.94L8.5 2.5l-.94 2.06-2.06.94zm10 10l.94 2.06.94-2.06 2.06-.94-2.06-.94-.94-2.06-.94 2.06-2.06.94z\"/><path d=\"M17.41 7.96l-1.37-1.37c-.4-.4-.92-.59-1.43-.59-.52 0-1.04.2-1.43.59L10.3 9.45l-7.72 7.72c-.78.78-.78 2.05 0 2.83L4 21.41c.39.39.9.59 1.41.59.51 0 1.02-.2 1.41-.59l7.78-7.78 2.81-2.81c.8-.78.8-2.07 0-2.86zM5.41 20L4 18.59l7.72-7.72 1.47 1.35L5.41 20z\"/>\n",
              "  </svg>\n",
              "      </button>\n",
              "      \n",
              "  <style>\n",
              "    .colab-df-container {\n",
              "      display:flex;\n",
              "      flex-wrap:wrap;\n",
              "      gap: 12px;\n",
              "    }\n",
              "\n",
              "    .colab-df-convert {\n",
              "      background-color: #E8F0FE;\n",
              "      border: none;\n",
              "      border-radius: 50%;\n",
              "      cursor: pointer;\n",
              "      display: none;\n",
              "      fill: #1967D2;\n",
              "      height: 32px;\n",
              "      padding: 0 0 0 0;\n",
              "      width: 32px;\n",
              "    }\n",
              "\n",
              "    .colab-df-convert:hover {\n",
              "      background-color: #E2EBFA;\n",
              "      box-shadow: 0px 1px 2px rgba(60, 64, 67, 0.3), 0px 1px 3px 1px rgba(60, 64, 67, 0.15);\n",
              "      fill: #174EA6;\n",
              "    }\n",
              "\n",
              "    [theme=dark] .colab-df-convert {\n",
              "      background-color: #3B4455;\n",
              "      fill: #D2E3FC;\n",
              "    }\n",
              "\n",
              "    [theme=dark] .colab-df-convert:hover {\n",
              "      background-color: #434B5C;\n",
              "      box-shadow: 0px 1px 3px 1px rgba(0, 0, 0, 0.15);\n",
              "      filter: drop-shadow(0px 1px 2px rgba(0, 0, 0, 0.3));\n",
              "      fill: #FFFFFF;\n",
              "    }\n",
              "  </style>\n",
              "\n",
              "      <script>\n",
              "        const buttonEl =\n",
              "          document.querySelector('#df-ffe9f072-7a6f-4606-a912-b065329137af button.colab-df-convert');\n",
              "        buttonEl.style.display =\n",
              "          google.colab.kernel.accessAllowed ? 'block' : 'none';\n",
              "\n",
              "        async function convertToInteractive(key) {\n",
              "          const element = document.querySelector('#df-ffe9f072-7a6f-4606-a912-b065329137af');\n",
              "          const dataTable =\n",
              "            await google.colab.kernel.invokeFunction('convertToInteractive',\n",
              "                                                     [key], {});\n",
              "          if (!dataTable) return;\n",
              "\n",
              "          const docLinkHtml = 'Like what you see? Visit the ' +\n",
              "            '<a target=\"_blank\" href=https://colab.research.google.com/notebooks/data_table.ipynb>data table notebook</a>'\n",
              "            + ' to learn more about interactive tables.';\n",
              "          element.innerHTML = '';\n",
              "          dataTable['output_type'] = 'display_data';\n",
              "          await google.colab.output.renderOutput(dataTable, element);\n",
              "          const docLink = document.createElement('div');\n",
              "          docLink.innerHTML = docLinkHtml;\n",
              "          element.appendChild(docLink);\n",
              "        }\n",
              "      </script>\n",
              "    </div>\n",
              "  </div>\n",
              "  "
            ]
          },
          "metadata": {},
          "execution_count": 7
        }
      ]
    },
    {
      "cell_type": "code",
      "source": [
        "# get all the unique values in the 'Country' column\n",
        "Countries = data[\"Country\"].unique()\n",
        "\n",
        "\n",
        "# sort them alphabetically and then take a closer look\n",
        "Countries.sort\n",
        "\n",
        "Countries\n"
      ],
      "metadata": {
        "colab": {
          "base_uri": "https://localhost:8080/"
        },
        "id": "5rVM42HxgU4s",
        "outputId": "1268783b-3595-4f64-f9d3-64d667da75df"
      },
      "execution_count": 11,
      "outputs": [
        {
          "output_type": "execute_result",
          "data": {
            "text/plain": [
              "array(['France', 'Thailand', nan, 'Italy', 'Pakistan', 'Germany',\n",
              "       'Austria', 'Australia', 'UK', 'China', 'USA', 'South Korea',\n",
              "       'Malaysia', 'Sweden', 'Canada', 'Norway', 'Ireland', 'New Zealand',\n",
              "       'Urbana', 'Portugal', 'Russian Federation', 'Finland', ' USA',\n",
              "       'Netherland', ' Germany', ' Sweden', ' New Zealand', 'Greece',\n",
              "       'Turkey', 'Macau', 'Singapore', 'Spain', 'Denmark', 'Japan',\n",
              "       'HongKong', 'Saudi Arabia', 'Mauritius', 'Scotland'], dtype=object)"
            ]
          },
          "metadata": {},
          "execution_count": 11
        }
      ]
    },
    {
      "cell_type": "code",
      "source": [
        "#convert to lower case\n",
        "data[\"Country\"] =  data[\"Country\"].str.lower()\n",
        "#remover whilespace\n",
        "data[\"Country\"] =  data[\"Country\"].str.strip()"
      ],
      "metadata": {
        "id": "4zvZKzcug-nH"
      },
      "execution_count": 14,
      "outputs": []
    },
    {
      "cell_type": "code",
      "source": [
        "# get the top 10 closest matches to \"south korea\"\n",
        "\n",
        "mathches_south_korea = fuzzywuzzy.process.extract(\"south korea\", Countries, limit = 10, scorer=fuzzywuzzy.fuzz.token_sort_ratio)\n",
        "\n",
        "\n",
        "mathches_south_korea"
      ],
      "metadata": {
        "colab": {
          "base_uri": "https://localhost:8080/"
        },
        "id": "qTWZc2zAh-H-",
        "outputId": "d215b807-2630-4154-ba57-459274dfafe8"
      },
      "execution_count": 24,
      "outputs": [
        {
          "output_type": "execute_result",
          "data": {
            "text/plain": [
              "[('South Korea', 100),\n",
              " ('Saudi Arabia', 43),\n",
              " ('Norway', 35),\n",
              " ('Ireland', 33),\n",
              " ('Portugal', 32),\n",
              " ('Singapore', 30),\n",
              " ('Netherland', 29),\n",
              " ('Macau', 25),\n",
              " ('France', 24),\n",
              " ('Urbana', 24)]"
            ]
          },
          "metadata": {},
          "execution_count": 24
        }
      ]
    },
    {
      "cell_type": "code",
      "source": [
        "def replace_matches_in_column(df, column, string_to_match, min_ratio = 47):\n",
        "  strings = df[column].unique()\n",
        "  matches = fuzzywuzzy.process.extract(string_to_match, strings, limit = 10,  scorer=fuzzywuzzy.fuzz.token_sort_ratio)\n",
        "  close_matches = []\n",
        "  for elements in matches:\n",
        "    if elements[1] > min_ratio:\n",
        "      close_matches.append(elements[0])\n",
        "  \n",
        "  row_with_matches = df[column].isin(close_matches)\n",
        "  df.loc[row_with_matches, column] = string_to_match\n",
        "\n",
        "  print(\"All Done\")\n"
      ],
      "metadata": {
        "id": "y7I1GrsBjGne"
      },
      "execution_count": 20,
      "outputs": []
    },
    {
      "cell_type": "code",
      "source": [
        "replace_matches_in_column(df=data, column='Country', string_to_match=\"south korea\")"
      ],
      "metadata": {
        "colab": {
          "base_uri": "https://localhost:8080/"
        },
        "id": "KcCgAX16lOqj",
        "outputId": "c6006bf6-c413-4c75-a8f6-9aded54628e0"
      },
      "execution_count": 21,
      "outputs": [
        {
          "output_type": "stream",
          "name": "stdout",
          "text": [
            "All Done\n"
          ]
        }
      ]
    },
    {
      "cell_type": "code",
      "source": [
        "coutires = data['Country'].unique()\n",
        "\n",
        "coutires.sort\n",
        "\n",
        "coutires"
      ],
      "metadata": {
        "colab": {
          "base_uri": "https://localhost:8080/"
        },
        "id": "JiR5_ucNlXo0",
        "outputId": "4939372e-4388-41b1-db47-fc0d7e63e5cc"
      },
      "execution_count": 22,
      "outputs": [
        {
          "output_type": "execute_result",
          "data": {
            "text/plain": [
              "array(['france', 'thailand', nan, 'italy', 'pakistan', 'germany',\n",
              "       'austria', 'australia', 'uk', 'china', 'usa', 'south korea',\n",
              "       'malaysia', 'sweden', 'canada', 'norway', 'ireland', 'new zealand',\n",
              "       'urbana', 'portugal', 'russian federation', 'finland',\n",
              "       'netherland', 'greece', 'turkey', 'macau', 'singapore', 'spain',\n",
              "       'denmark', 'japan', 'hongkong', 'saudi arabia', 'mauritius',\n",
              "       'scotland'], dtype=object)"
            ]
          },
          "metadata": {},
          "execution_count": 22
        }
      ]
    }
  ]
}