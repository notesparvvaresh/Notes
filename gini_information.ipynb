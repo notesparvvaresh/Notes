{
  "nbformat": 4,
  "nbformat_minor": 0,
  "metadata": {
    "colab": {
      "provenance": []
    },
    "kernelspec": {
      "name": "python3",
      "display_name": "Python 3"
    },
    "language_info": {
      "name": "python"
    }
  },
  "cells": [
    {
      "cell_type": "code",
      "execution_count": 1,
      "metadata": {
        "id": "T1azAwIgfdge"
      },
      "outputs": [],
      "source": [
        "#The first line of the input is a list of the target values in the initial dataset.\n",
        "#The second line is the target values of the left split\n",
        "#the third line is the target values of the right split."
      ]
    },
    {
      "cell_type": "code",
      "source": [
        "class gini_and_gini_information:\n",
        "\n",
        "  def __init__(self, S, A, B):\n",
        "    self.S = S\n",
        "    self.A = A\n",
        "    self.B = B\n",
        "\n",
        "  def gini(self, test):\n",
        "    if test == \"S\":\n",
        "      test = self.S\n",
        "    if test == \"A\":\n",
        "      test = self.A\n",
        "    if test == \"B\":\n",
        "      test = self.B\n",
        "    \n",
        "    \n",
        "    \n",
        "    count = 0\n",
        "    for element in test:\n",
        "      if element == 1:\n",
        "        count += 1\n",
        "    \n",
        "    p = count / len(test)\n",
        "\n",
        "    gini_test = 2 * p * (1 - p)\n",
        "\n",
        "    return gini_test \n",
        "  def gini_information(self):\n",
        "    gini_S = self.gini(\"S\")\n",
        "    gini_A = self.gini(\"A\")\n",
        "    gini_B = self.gini(\"B\")\n",
        "\n",
        "    gini_in_test = gini_S - ((len(self.A)/ len(self.S)) * gini_A) - ((len(self.B)/ len(self.S)) * gini_B)\n",
        "    return gini_in_test \n",
        "    "
      ],
      "metadata": {
        "id": "gTOwv8irhaNN"
      },
      "execution_count": 2,
      "outputs": []
    },
    {
      "cell_type": "code",
      "source": [
        "S = [int(x) for x in input().split()]\n",
        "A = [int(x) for x in input().split()]\n",
        "B = [int(x) for x in input().split()]"
      ],
      "metadata": {
        "colab": {
          "base_uri": "https://localhost:8080/",
          "height": 0
        },
        "id": "1GvWNmINkK4A",
        "outputId": "67eb975c-b36f-4297-82f5-26286c0dc2a4"
      },
      "execution_count": 3,
      "outputs": [
        {
          "name": "stdout",
          "output_type": "stream",
          "text": [
            "1 0 1 0 1 0\n",
            "1 1  0\n",
            "0 0 1\n"
          ]
        }
      ]
    },
    {
      "cell_type": "code",
      "source": [
        "test_class = gini_and_gini_information(S, A, B)\n",
        "\n",
        "gini = test_class.gini(\"S\")\n",
        "\n",
        "gini_information = test_class.gini_information()\n",
        "\n",
        "print(f\"gini of S is : {gini}\")\n",
        "print(f\"information gini is {gini_information}\")"
      ],
      "metadata": {
        "colab": {
          "base_uri": "https://localhost:8080/",
          "height": 0
        },
        "id": "vTH_IT_WkMFD",
        "outputId": "ae6ffa21-c2fe-41bb-f7b3-fc5aacf0d572"
      },
      "execution_count": 4,
      "outputs": [
        {
          "output_type": "stream",
          "name": "stdout",
          "text": [
            "gini of S is : 0.5\n",
            "information gini is 0.05555555555555555\n"
          ]
        }
      ]
    }
  ]
}